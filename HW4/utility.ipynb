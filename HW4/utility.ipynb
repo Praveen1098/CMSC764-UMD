{
 "cells": [
  {
   "cell_type": "code",
   "execution_count": 3,
   "metadata": {},
   "outputs": [],
   "source": [
    "import numpy as np\n",
    "def check_gradient(f, grad, x):\n",
    "    y = np.random.normal(size=x.shape)\n",
    "    y = y/norm(y)*norm(x)\n",
    "\n",
    "    g = grad(x)\n",
    "    rel_error = np.zeros(10)\n",
    "    for iter in range(10):\n",
    "        y = y/10;\n",
    "        d1 = f(x + y) - f(x)  # exact change in function\n",
    "        d2 = np.sum((g * y).ravel())  # approximate change from gradient\n",
    "        rel_error[iter] = (d1-d2)/d1\n",
    "        print('d1=%1.5g, d2=%1.5g, error=%1.5g,'%(d1,d2, rel_error[iter] ))\n",
    "    min_error = min(np.abs(rel_error))\n",
    "    print('Min relative error = %1.5g'%min_error)\n",
    "    did_pass = min_error < 1e-6\n",
    "    print(did_pass and \"Test passed\" or \"Test failed\")\n",
    "    return min_error < 1e-6"
   ]
  },
  {
   "cell_type": "code",
   "execution_count": null,
   "metadata": {},
   "outputs": [],
   "source": [
    "def check_adjoint(A,At,dims):\n",
    "    # start with this line - create a random input for A()\n",
    "    x = normal(size=dims)+1j*normal(size=dims)\n",
    "    Ax = A(x)\n",
    "    y = normal(size=Ax.shape)+1j*normal(size=Ax.shape)\n",
    "    Aty = At(y)\n",
    "    # compute the Hermitian inner products\n",
    "    inner1 = np.sum(np.conj(Ax)*y)\n",
    "    inner2 = np.sum(np.conj(x)*Aty)\n",
    "    # report error\n",
    "    rel_error = np.abs(inner1-inner2)/np.maximum(np.abs(inner1),np.abs(inner2))\n",
    "    if rel_error < 1e-10:\n",
    "        print('Adjoint Test Passed, rel_diff = %s'%rel_error)\n",
    "        return True\n",
    "    else:\n",
    "        print('Adjoint Test Failed, rel_diff = %s'%rel_error)\n",
    "        return False"
   ]
  }
 ],
 "metadata": {
  "kernelspec": {
   "display_name": "Python 3",
   "language": "python",
   "name": "python3"
  },
  "language_info": {
   "codemirror_mode": {
    "name": "ipython",
    "version": 3
   },
   "file_extension": ".py",
   "mimetype": "text/x-python",
   "name": "python",
   "nbconvert_exporter": "python",
   "pygments_lexer": "ipython3",
   "version": "3.6.4"
  }
 },
 "nbformat": 4,
 "nbformat_minor": 2
}
