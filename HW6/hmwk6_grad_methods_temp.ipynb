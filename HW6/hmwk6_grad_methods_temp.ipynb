{
 "cells": [
  {
   "cell_type": "markdown",
   "metadata": {},
   "source": [
    "Name:  **Haitham Khedr**  \n",
    "UID:  **Your student ID num here**"
   ]
  },
  {
   "cell_type": "markdown",
   "metadata": {},
   "source": [
    "# Homework 6:  Gradient methods \n",
    "### Due April 11, 2019\n",
    "Upload **both** your notebook (a file with extension \"ipynb\") **and** a pdf version of your notebook to [ELMS](https://umd.instructure.com/courses/1255897). \n",
    "\n",
    "Put the file `notebook_importer.py` into your directory, along with `utility.py`.  Then run the following cell."
   ]
  },
  {
   "cell_type": "code",
   "execution_count": 1,
   "metadata": {},
   "outputs": [
    {
     "name": "stdout",
     "output_type": "stream",
     "text": [
      "running importer\n",
      "importing Jupyter notebook from utility.ipynb\n",
      "Founds 7 cells\n"
     ]
    }
   ],
   "source": [
    "import notebook_importer\n",
    "from utility import *\n",
    "import numpy as np\n",
    "from numpy import sqrt, sum, abs, max, maximum, logspace, exp, log, log10, zeros\n",
    "from numpy.linalg import norm\n",
    "from numpy.random import randn, rand, normal, randint\n",
    "import urllib\n",
    "import matplotlib.pyplot as plt\n",
    "np.random.seed(0)\n",
    "def good_job(path):\n",
    "    a = plt.imread(urllib.request.urlopen(path))\n",
    "    fig = plt.imshow(a)\n",
    "    fig.axes.get_xaxis().set_visible(False)\n",
    "    fig.axes.get_yaxis().set_visible(False)\n",
    "    plt.show()\n",
    "np.random.seed(0)"
   ]
  },
  {
   "cell_type": "markdown",
   "metadata": {},
   "source": [
    "# Problem 1:  Gradient descent\n",
    "Write a function that estimates the Lipschitz constant of a function $g$.  This can be done using the formula\n",
    "$$L \\approx \\frac{\\|g(x) - g(y)\\|}{\\|x-y\\|}.$$\n",
    "The inputs should be a function $g:\\mathbb{R}^n \\to \\mathbb{R}^m,$ and an initial vector $x$ in the domain of $g$."
   ]
  },
  {
   "cell_type": "code",
   "execution_count": 2,
   "metadata": {},
   "outputs": [],
   "source": [
    "def estimate_lipschitz(g, x):\n",
    "    # Your work here\n",
    "    y = x + np.random.normal(size=x.shape)\n",
    "    L = np.linalg.norm(g(x) - g(y))/ np.linalg.norm(x-y)\n",
    "    return L"
   ]
  },
  {
   "cell_type": "markdown",
   "metadata": {},
   "source": [
    "#### Now, run this unit test"
   ]
  },
  {
   "cell_type": "code",
   "execution_count": 3,
   "metadata": {},
   "outputs": [
    {
     "name": "stdout",
     "output_type": "stream",
     "text": [
      "Great - your Lipschitz estimator works!\n"
     ]
    }
   ],
   "source": [
    "g = lambda x: 10*x\n",
    "x = randn(3,4,5)\n",
    "L = estimate_lipschitz(g,x)\n",
    "assert abs(L-10)<1e-10, \"Your Lipschitz estimator is broken!\"\n",
    "print(\"Great - your Lipschitz estimator works!\")"
   ]
  },
  {
   "cell_type": "markdown",
   "metadata": {},
   "source": [
    "### Write a routine that minimizes a function using gradient descent.\n",
    "The inputs $f$ and $grad$ are function handles.  The function $f: \\mathbb{R}^N\\to \\mathbb{R}$ is an arbitrary objective function, and  $grad: \\mathbb{R}^N \\to \\mathbb{R}^N$ is its gradient.  The method should minimize $f$ using gradient descent, and terminate when the gradient of $f$ is small.  I suggest stopping when\n",
    " $$\\|\\nabla f(x^k)\\|<\\|\\nabla f(x^0)\\|*tol$$\n",
    " where $x^0$ is an initial guess and $tol$ is a small tolerance parameter (a typical value would be $10^{-4}$).  \n",
    " \n",
    "  Use a backtracking line search to guarantee convergence.   The stepsize should be monotonically decreasing.  Each iteration should begin by trying the stepsize that was used on the previous iteration, and then backtrack until the Armijo condition holds:\n",
    "  $$f(x^{k+1}) \\le f(x^k) + \\alpha \\langle x^{k+1} - x^k, \\nabla f(x^k)\\rangle,$$\n",
    "  where $\\alpha \\in (0,1),$ and $\\alpha=0.1$ is suggested.\n",
    "\n",
    "  The function returns the solution vector $x_{sol}$, and also a vector $res$ containing the norm of the residual (i.e., the norm of the gradient) at each iteration.\n",
    "\n",
    "This initial stepsize should be $10L$, where $L$ is an estimate of the Lipschitz constant for the gradient."
   ]
  },
  {
   "cell_type": "code",
   "execution_count": 4,
   "metadata": {},
   "outputs": [],
   "source": [
    "def grad_descent(f, grad, x0, max_iters=10000, tol=1e-4):\n",
    "    # Your work here\n",
    "    converged = False\n",
    "    step_size = 10 * estimate_lipschitz(grad,x0)\n",
    "    init_grad_norm = np.linalg.norm(grad(x0))\n",
    "    x = x0\n",
    "    a = 0.1\n",
    "    res =[]\n",
    "    while(max_iters and not converged):\n",
    "        max_iters -=1\n",
    "        gradient = grad(x)\n",
    "        grad_norm = np.linalg.norm(gradient)\n",
    "        res.append(grad_norm)\n",
    "        if(grad_norm < init_grad_norm * tol):\n",
    "            converged = True\n",
    "        else:\n",
    "            #do gradient step\n",
    "            while(f(x - step_size * gradient) >= (f(x) + a* step_size* np.vdot(-gradient, gradient))):\n",
    "                step_size /= 2.\n",
    "            x = x - step_size*gradient     \n",
    "    return x, res"
   ]
  },
  {
   "cell_type": "markdown",
   "metadata": {},
   "source": [
    "### Now run this unit test.  It will use your routine to fit a logistic regression"
   ]
  },
  {
   "cell_type": "code",
   "execution_count": 5,
   "metadata": {},
   "outputs": [
    {
     "name": "stdout",
     "output_type": "stream",
     "text": [
      "Solver terminated in 2710 steps\n",
      "Terrific!  Your routine works!\n"
     ]
    },
    {
     "data": {
      "image/png": "[encoded data removed]",
      "text/plain": [
       "<Figure size 432x288 with 1 Axes>"
      ]
     },
     "metadata": {
      "needs_background": "light"
     },
     "output_type": "display_data"
    }
   ],
   "source": [
    "# Define a classification problem\n",
    "X, y = create_classification_problem(100, 10, cond_number=10)\n",
    "# Define the logistic loss function, and its gradient\n",
    "f = lambda w: logreg_objective(w,X,y)\n",
    "grad = lambda w: logreg_objective_grad(w,X,y)\n",
    "# Pick the initial guess\n",
    "w0 = zeros((10,1))\n",
    "\n",
    "# Now, solve the minimization problem\n",
    "w, res = grad_descent(f,grad,w0)\n",
    "\n",
    "# Check the solution\n",
    "assert res[-1]/res[0]<1e-4, \"ERROR:  your gradient descent routine did not the minimize the function\"\n",
    "print(\"Solver terminated in %d steps\"%len(res))\n",
    "print(\"Terrific!  Your routine works!\")\n",
    "\n",
    "_, res_g = grad_descent(f,grad,w0)\n",
    "n_g = list(range(len(res_g)))\n",
    "plt.semilogy(n_g,res_g)\n",
    "plt.legend(('gradient',))\n",
    "plt.xlabel('iteration')\n",
    "plt.ylabel('residual')\n",
    "plt.show()"
   ]
  },
  {
   "cell_type": "markdown",
   "metadata": {},
   "source": [
    "### Now, implement a gradient solver that begins each iterations using a Barzilai-Borwein stepsize \n",
    "  $$\\tau = \\frac{\\langle x^{k+1} - x^k ,x^{k+1} - x^k   \\rangle}{\\langle x^{k+1} - x^k ,\\nabla f(x^{k+1}) - \\nabla f(x^k)   \\rangle}.$$\n",
    "  Your routine should perform only 1 gradient computation per iteration (i.e., your method should not require any \"extra\" work).\n",
    "\n"
   ]
  },
  {
   "cell_type": "code",
   "execution_count": 6,
   "metadata": {},
   "outputs": [],
   "source": [
    "def grad_descent_bb(f, grad, x0, max_iters=10000, tol=1e-4):\n",
    "    # Your work here\n",
    "    converged = False\n",
    "    L = estimate_lipschitz(grad,x0)\n",
    "    step_size = L\n",
    "    init_grad_norm = np.linalg.norm(grad(x0))\n",
    "    x = x0\n",
    "    a = 0.1\n",
    "    res =[]\n",
    "    while(max_iters and not converged):\n",
    "        max_iters -=1\n",
    "        gradient = grad(x)\n",
    "        grad_norm = np.linalg.norm(gradient)\n",
    "        res.append(grad_norm)\n",
    "        if(grad_norm < init_grad_norm * tol):\n",
    "            converged = True\n",
    "        else:\n",
    "            #do gradient step\n",
    "            while(f(x - step_size * gradient) >= (f(x) + a* step_size* np.vdot(-gradient, gradient))):\n",
    "                step_size /= 2.\n",
    "            \n",
    "            x1 = x - step_size*gradient \n",
    "            dx = x1-x\n",
    "            step_size = np.vdot(dx,dx) / np.vdot(dx,L*dx)\n",
    "            x = x1\n",
    "            \n",
    "            \n",
    "    return x, res"
   ]
  },
  {
   "cell_type": "markdown",
   "metadata": {},
   "source": [
    "### Now run this unit test"
   ]
  },
  {
   "cell_type": "code",
   "execution_count": 7,
   "metadata": {},
   "outputs": [
    {
     "name": "stdout",
     "output_type": "stream",
     "text": [
      "Solver terminated in 476 steps\n",
      "Terrific!  Your BB routine works!\n"
     ]
    },
    {
     "data": {
      "image/png": "[encoded data removed]",
      "text/plain": [
       "<Figure size 432x288 with 1 Axes>"
      ]
     },
     "metadata": {
      "needs_background": "light"
     },
     "output_type": "display_data"
    }
   ],
   "source": [
    "# Minimize that logistic loss again\n",
    "output = logreg_objective(w,X,y)\n",
    "f = lambda w: logreg_objective(w,X,y)\n",
    "grad = lambda w: logreg_objective_grad(w,X,y)\n",
    "\n",
    "w, res = grad_descent_bb(f,grad,w0)\n",
    "assert res[-1]/res[0]<1e-4, \"ERROR:  Your BB routine did not the minimize the function\"\n",
    "print(\"Solver terminated in %d steps\"%len(res))\n",
    "print(\"Terrific!  Your BB routine works!\")\n",
    "\n",
    "_, res_g = grad_descent(f,grad,w0)\n",
    "_, res_b = grad_descent_bb(f,grad,w0)\n",
    "n_g = list(range(len(res_g)))\n",
    "n_b = list(range(len(res_b)))\n",
    "\n",
    "plt.semilogy(n_g,res_g,n_b,res_b)\n",
    "plt.legend(('gradient','bb'))\n",
    "plt.xlabel('iteration')\n",
    "plt.ylabel('residual')\n",
    "plt.show()"
   ]
  },
  {
   "cell_type": "markdown",
   "metadata": {},
   "source": [
    "### Write a routine that uses Nesterov's accelerated gradient method\n"
   ]
  },
  {
   "cell_type": "code",
   "execution_count": 8,
   "metadata": {},
   "outputs": [],
   "source": [
    "def grad_descent_nesterov(f, grad, x0, max_iters=10000, tol=1e-4):\n",
    "    # Your work here!\n",
    "    converged = False\n",
    "    L = estimate_lipschitz(grad,x0)\n",
    "    step_size = 1./(2*L)\n",
    "    init_grad_norm = np.linalg.norm(grad(x0))\n",
    "    alpha = 1\n",
    "    y = x0\n",
    "    x = x0\n",
    "    res = []\n",
    "    while(max_iters and not converged):\n",
    "        max_iters -=1\n",
    "        gradient = grad(y)\n",
    "        grad_norm = np.linalg.norm(gradient)\n",
    "        res.append(grad_norm)\n",
    "        if(grad_norm < init_grad_norm * tol):\n",
    "            converged = True\n",
    "        else:\n",
    "            x1 = y - step_size * gradient\n",
    "            alpha1 = (1 + np.sqrt(4*alpha**2 + 1)) / 2.\n",
    "            y = x1 + (alpha - 1) *(x1 -x) / alpha1\n",
    "            alpha = alpha1\n",
    "            x = x1\n",
    "    return x, res"
   ]
  },
  {
   "cell_type": "markdown",
   "metadata": {},
   "source": [
    "### Now run this unit test"
   ]
  },
  {
   "cell_type": "code",
   "execution_count": 10,
   "metadata": {},
   "outputs": [
    {
     "name": "stdout",
     "output_type": "stream",
     "text": [
      "Solver terminated in 274 steps\n",
      "Terrific!  Your Nesterov routine works!\n"
     ]
    },
    {
     "data": {
      "image/png": "[encoded data removed]",
      "text/plain": [
       "<Figure size 432x288 with 1 Axes>"
      ]
     },
     "metadata": {
      "needs_background": "light"
     },
     "output_type": "display_data"
    }
   ],
   "source": [
    "# Minimize the logistic loss using Nesterov's method\n",
    "output = logreg_objective(w,X,y)\n",
    "f = lambda w: logreg_objective(w,X,y)\n",
    "grad = lambda w: logreg_objective_grad(w,X,y)\n",
    "\n",
    "w, res = grad_descent_nesterov(f,grad,w0)\n",
    "assert res[-1]/res[0]<1e-4, \"ERROR:  Your Nesterov routine did not the minimize the function\"\n",
    "print(\"Solver terminated in %d steps\"%len(res))\n",
    "print(\"Terrific!  Your Nesterov routine works!\")\n",
    "\n",
    "_, res_g = grad_descent(f,grad,w0)\n",
    "_, res_b = grad_descent_bb(f,grad,w0)\n",
    "_, res_n = grad_descent_nesterov(f,grad,w0)\n",
    "n_g = list(range(len(res_g)))\n",
    "n_b = list(range(len(res_b)))\n",
    "n_n = list(range(len(res_n)))\n",
    "\n",
    "plt.semilogy(n_g,res_g,n_b,res_b,n_n,res_n)\n",
    "plt.legend(('gradient','bb','nesterov'))\n",
    "plt.xlabel('iteration')\n",
    "plt.ylabel('residual')\n",
    "plt.show()"
   ]
  },
  {
   "cell_type": "markdown",
   "metadata": {},
   "source": [
    "# Problem 2:  Image denoising\n",
    "Consider this noisy test image."
   ]
  },
  {
   "cell_type": "code",
   "execution_count": 11,
   "metadata": {},
   "outputs": [
    {
     "name": "stdout",
     "output_type": "stream",
     "text": [
      "Here is a noisy image...\n"
     ]
    },
    {
     "data": {
      "image/png": "[encoded data removed]",
      "text/plain": [
       "<Figure size 432x288 with 1 Axes>"
      ]
     },
     "metadata": {
      "needs_background": "light"
     },
     "output_type": "display_data"
    }
   ],
   "source": [
    "# Don't modify this block\n",
    "image = zeros((50,50))\n",
    "image[15:35,15:35]=1\n",
    "image = image+0.1*randn(50,50)\n",
    "print('Here is a noisy image...')\n",
    "plt.imshow(image)\n",
    "plt.show()"
   ]
  },
  {
   "cell_type": "markdown",
   "metadata": {},
   "source": [
    "#### Here's the TV loss function from a previous homework..."
   ]
  },
  {
   "cell_type": "code",
   "execution_count": 12,
   "metadata": {},
   "outputs": [],
   "source": [
    "# Don't modify this block\n",
    "mu = .1\n",
    "def h(z, eps=.01):\n",
    "    \"\"\"The hyperbolic approximation to L1\"\"\"\n",
    "    return sum(sqrt(z*z+eps*eps).ravel())\n",
    "def tv_denoise_objective(x,mu,b):\n",
    "    return mu*h(grad2d(x)) + 0.5*norm(x-b)**2\n",
    "def h_grad(z, eps=.01):\n",
    "    \"\"\"The gradient of h\"\"\"\n",
    "    return z/sqrt(z*z+eps*eps)\n",
    "def tv_denoise_grad(x,mu,b):\n",
    "    \"\"\"The gradient of the TV objective\"\"\"\n",
    "    return mu*divergence2d(h_grad(grad2d(x))) + x-b"
   ]
  },
  {
   "cell_type": "markdown",
   "metadata": {},
   "source": [
    "### Use your BB solver to minimize the TV objective, and denoise the test image."
   ]
  },
  {
   "cell_type": "code",
   "execution_count": 13,
   "metadata": {},
   "outputs": [
    {
     "name": "stdout",
     "output_type": "stream",
     "text": [
      "Here's the denoised image...\n"
     ]
    },
    {
     "data": {
      "image/png": "[encoded data removed]",
      "text/plain": [
       "<Figure size 432x288 with 1 Axes>"
      ]
     },
     "metadata": {
      "needs_background": "light"
     },
     "output_type": "display_data"
    }
   ],
   "source": [
    "# Your work here!\n",
    "f = lambda w: tv_denoise_objective(w,mu,image)\n",
    "grad = lambda w: tv_denoise_grad(w,mu,image)\n",
    "x, res = grad_descent_bb(f,grad,np.zeros_like(image))\n",
    "\n",
    "# Don't modify the three lines below\n",
    "print(\"Here's the denoised image...\")\n",
    "plt.imshow(x)\n",
    "plt.show()"
   ]
  },
  {
   "cell_type": "markdown",
   "metadata": {},
   "source": [
    "# Problem 3:  The dual\n",
    "Consider the \"monotropic\" program\n",
    "\\begin{align}\n",
    "\\text{minimize} & \\quad  \\|x\\|_\\infty \\\\\n",
    "\\text{subject to} & \\quad Ax=b . \\nonumber\n",
    "\\end{align}\n",
    "\n",
    "Write this as an unconstrained (or implicitly constrained) problem using the characteristic function of the zero vector $\\chi_0(z) .$  This function is zero if it's argument is zero, and infinite otherwise.\n",
    "\n"
   ]
  },
  {
   "cell_type": "markdown",
   "metadata": {},
   "source": [
    "$\\text{minimize} \\quad \\|x\\|_\\infty + \\chi_0(Ax-b)$ "
   ]
  },
  {
   "cell_type": "markdown",
   "metadata": {},
   "source": [
    "#### What is the conjugate of $f(z)= \\|z\\|_\\infty$?"
   ]
  },
  {
   "cell_type": "markdown",
   "metadata": {},
   "source": [
    "$f^*(y) = \\chi_1(y)$. This function is 0 if $\\|y\\|_1 \\leq 1$ and $\\infty$ otherwise"
   ]
  },
  {
   "cell_type": "markdown",
   "metadata": {},
   "source": [
    "#### What is the conjugate of $g(z)=\\chi_0(z)$?"
   ]
  },
  {
   "cell_type": "markdown",
   "metadata": {},
   "source": [
    "$g^*(y) = max_z \\ y^Tz - \\chi_0(z) = max_z y^Tz$ which attains its maximum at z = 0, $\\therefore g^*(y) = 0$"
   ]
  },
  {
   "cell_type": "markdown",
   "metadata": {},
   "source": [
    "#### Using the conjugate functions, write down the dual of the monotropic problem."
   ]
  },
  {
   "cell_type": "markdown",
   "metadata": {},
   "source": [
    "For the problem \n",
    "\n",
    "$\\text{minimize}\\quad g(x) + f(Ax+b)$, the dual is $d(\\lambda) = \\lambda^Tb - g^*(-A^T\\lambda) - f^*(\\lambda)$\n",
    "\n",
    "For the monotropic problem, we have  $g(x) = \\|x\\|_\\infty \\ \\ , f(Ax+b) = \\chi_0(Ax-b)$\n",
    "\n",
    "$\\therefore d(\\lambda) = -\\lambda^Tb - g^*(-A^T\\lambda) - f^*(\\lambda) = -\\lambda^Tb -\\chi_1(-A^T\\lambda)$ "
   ]
  },
  {
   "cell_type": "markdown",
   "metadata": {},
   "source": [
    "# Problem 4:  Linear programming\n",
    "Consider the linear program\n",
    "\\begin{align*}\n",
    "\\text{minimize} \\quad &  c^T x \\\\\n",
    "\\text{subject to} \\quad & Ax=b\\\\\n",
    " & x\\ge 0.\n",
    "\\end{align*}\n",
    "\n",
    "#### Write the optimality conditions for this problem (i.e., the KKT system)."
   ]
  },
  {
   "cell_type": "markdown",
   "metadata": {},
   "source": [
    "For an optimal point $x^* \\in R^n$, the following KKT conditions must hold for some $\\lambda,\\nu$\n",
    "\n",
    "$c + A^T\\lambda - v = 0$ (primal optimlaity)\n",
    "\n",
    "$-x^*\\leq 0, Ax^*-b = 0$ (primal feasability)\n",
    "\n",
    "$\\nu \\ge 0$ (dual feasibility)\n",
    "\n",
    "$-\\nu^Tx^* = 0$ (comp slackness)"
   ]
  },
  {
   "cell_type": "markdown",
   "metadata": {},
   "source": [
    "#### Write the Lagrangian for this problem."
   ]
  },
  {
   "cell_type": "markdown",
   "metadata": {},
   "source": [
    "$L(x,\\lambda,\\nu) = c^Tx + \\lambda^T(Ax-b) - \\nu^T x$"
   ]
  },
  {
   "cell_type": "markdown",
   "metadata": {},
   "source": [
    "#### Minimize out the primal variables in the Lagrangian, and write the dual formulation of this linear program."
   ]
  },
  {
   "cell_type": "markdown",
   "metadata": {},
   "source": [
    "$d(\\lambda,\\nu) = min_x L(x,\\lambda,\\nu) = min_x (c^T + \\lambda^TA -v^T)x - \\lambda^Tb$\n",
    "\n",
    "optimality condition -> $c + A^T\\lambda - v = 0, \\ \\nu \\ge 0$ (primal optimlaity)\n",
    "\n",
    "$d(\\lambda,\\nu) = d(\\lambda) = -\\lambda^Tb$\n",
    "\n"
   ]
  },
  {
   "cell_type": "code",
   "execution_count": null,
   "metadata": {},
   "outputs": [],
   "source": []
  }
 ],
 "metadata": {
  "kernelspec": {
   "display_name": "Python 3",
   "language": "python",
   "name": "python3"
  },
  "language_info": {
   "codemirror_mode": {
    "name": "ipython",
    "version": 3
   },
   "file_extension": ".py",
   "mimetype": "text/x-python",
   "name": "python",
   "nbconvert_exporter": "python",
   "pygments_lexer": "ipython3",
   "version": "3.7.3"
  }
 },
 "nbformat": 4,
 "nbformat_minor": 2
}
