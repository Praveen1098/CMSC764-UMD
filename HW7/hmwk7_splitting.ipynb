{
 "cells": [
  {
   "cell_type": "markdown",
   "metadata": {},
   "source": [
    "Name:  **Your name here**  \n",
    "UID:  **Your student ID num here**"
   ]
  },
  {
   "cell_type": "markdown",
   "metadata": {},
   "source": [
    "# Homework 7:  Splitting Methods \n",
    "### Due May 14, 2019\n",
    "Upload **both** your notebook (a file with extension \"ipynb\") **and** a pdf version of your notebook to [ELMS](https://umd.instructure.com/courses/1255897). \n",
    "\n",
    "Put the file `notebook_importer.py` into your directory, along with `utility.py` from homework 6.  Then run the following cell."
   ]
  },
  {
   "cell_type": "code",
   "execution_count": 1,
   "metadata": {},
   "outputs": [
    {
     "name": "stdout",
     "output_type": "stream",
     "text": [
      "running importer\n",
      "importing Jupyter notebook from utility.ipynb\n",
      "Founds 7 cells\n",
      "Pixiedust database opened successfully\n"
     ]
    },
    {
     "data": {
      "text/html": [
       "\n",
       "        <div style=\"margin:10px\">\n",
       "            <a href=\"https://github.com/ibm-watson-data-lab/pixiedust\" target=\"_new\">\n",
       "                <img src=\"https://github.com/ibm-watson-data-lab/pixiedust/raw/master/docs/_static/pd_icon32.png\" style=\"float:left;margin-right:10px\"/>\n",
       "            </a>\n",
       "            <span>Pixiedust version 1.1.15</span>\n",
       "        </div>\n",
       "        "
      ],
      "text/plain": [
       "<IPython.core.display.HTML object>"
      ]
     },
     "metadata": {},
     "output_type": "display_data"
    }
   ],
   "source": [
    "import notebook_importer\n",
    "from utility import *\n",
    "import numpy as np\n",
    "from numpy import sqrt, sum, abs, sign, max, maximum, minimum, logspace, exp, log, log10, zeros\n",
    "from numpy.linalg import norm\n",
    "from numpy.random import randn, rand, normal, randint\n",
    "import urllib\n",
    "import matplotlib.pyplot as plt\n",
    "import pixiedust\n",
    "\n",
    "np.random.seed(0)\n",
    "def good_job(path):\n",
    "    a = plt.imread(urllib.request.urlopen(path))\n",
    "    fig = plt.imshow(a)\n",
    "    fig.axes.get_xaxis().set_visible(False)\n",
    "    fig.axes.get_yaxis().set_visible(False)\n",
    "    plt.show()\n",
    "np.random.seed(0)"
   ]
  },
  {
   "cell_type": "markdown",
   "metadata": {},
   "source": [
    "# Problem 1: FBS\n",
    "Write a method that uses FBS to solve a general problem of the form \n",
    "$$\\min \\quad f(x)+g(x),$$\n",
    "where $f$ is smooth and $g$ is simple.\n",
    "You can do this by building on your gradient descent code from homework 2.  \n",
    "The argument $f$ computes the scalar-valued function $f(x).$  The argument `gradf` is a function handle that computes the gradient of $f.$  This means that\n",
    " $$ \\mathtt{gradf}(x) = \\nabla f(x).$$ \n",
    "  The argument `proxg` is a function handle that computes the proximal operator of $g$ with stepsize $\\tau.$  This means that \n",
    "  $$proxg(z,\\tau) = \\arg \\min_x  g(x) + \\frac{1}{2\\tau}\\|x-z\\|^2.$$\n",
    "  Your method should start by estimating the initial stepsize $\\tau$ using the Lipschitz constant for the gradient of $f.$  You already did this in homework 5 in your gradient descent method. The method should then perform an iteration of FBS, and use a backtracking line search until the following condition is met:\n",
    "      $$f(x^{k+1}) \\le f(x^k)+\\langle x^{k+1}-x^k, \\nabla f(x^k) \\rangle + \\frac{1}{2\\tau}\\|x^k-x^{k+1}\\|^2.$$\n",
    "\n",
    "Your method should terminate when the residual\n",
    "   $\\frac{1}{\\tau}\\|x^{k+1}-x^k\\|$\n",
    "   is \"small\" according to some reasonable criteria.  Formulas for the line search and residuals can be found in the paper \"A field guide to forward backward splitting with a FASTA implementation,\" (the line search condition is discussed in section 4.4, and formulas for the residuals are in section 4.6)  and also in the lecture slides.\n",
    "   \n",
    "  Your method should return an array containing the solution to the problem.\n"
   ]
  },
  {
   "cell_type": "code",
   "execution_count": 2,
   "metadata": {},
   "outputs": [],
   "source": [
    "def estimate_lipschitz(g, x):\n",
    "    # Your work here\n",
    "    y = x + np.random.normal(size=x.shape)\n",
    "    L = np.linalg.norm(g(x) - g(y))/ np.linalg.norm(x-y)\n",
    "    return L"
   ]
  },
  {
   "cell_type": "code",
   "execution_count": 3,
   "metadata": {},
   "outputs": [],
   "source": [
    "def  fbs(f, gradf, proxg, x0, max_iters = 10000, tol=1e-6):\n",
    "    ## Your work here! \n",
    "    converged = False\n",
    "    step_size = 10 / estimate_lipschitz(gradf,x0)\n",
    "    x = x0\n",
    "    while(max_iters and not converged):\n",
    "        max_iters -=1\n",
    "        gradient = gradf(x)        \n",
    "        x_n = proxg(x - step_size * gradient, step_size)\n",
    "        while(f(x_n) > (f(x) + np.vdot(x_n - x, gradient) + (0.5/step_size)*np.linalg.norm(x_n - x)**2 )):\n",
    "            step_size /= 2.\n",
    "            x_n = proxg(x - step_size * gradient, step_size)\n",
    "            \n",
    "        if(np.linalg.norm(x_n - x)/step_size < tol):\n",
    "            converged = True\n",
    "\n",
    "        x = x_n\n",
    "    return x\n"
   ]
  },
  {
   "cell_type": "markdown",
   "metadata": {},
   "source": [
    "### Now, run this unit test"
   ]
  },
  {
   "cell_type": "code",
   "execution_count": 4,
   "metadata": {},
   "outputs": [
    {
     "name": "stdout",
     "output_type": "stream",
     "text": [
      "Your FBS solver worked!\n"
     ]
    }
   ],
   "source": [
    "# Minimizer f+g where f(x)=.5(x+2)^2, g(x)=.5(x)^2\n",
    "f = lambda x: 0.5*(x-2)**2\n",
    "gradf = lambda x: x-2\n",
    "g = lambda x: 0.5*x**2\n",
    "proxg = lambda z,t: z/(1+t)\n",
    "x0 = np.array(5)\n",
    "\n",
    "x = fbs(f,gradf,proxg,x0)\n",
    "assert abs(x-1)<1e-4, \"Your solution is not accurate enough!\"\n",
    "print('Your FBS solver worked!')"
   ]
  },
  {
   "cell_type": "markdown",
   "metadata": {},
   "source": [
    "### Now let's cook up a sparse least squares problem "
   ]
  },
  {
   "cell_type": "code",
   "execution_count": 5,
   "metadata": {},
   "outputs": [],
   "source": [
    "# Don't modify this block!\n",
    "A = randn(100,200)\n",
    "x_true = zeros((200,1))\n",
    "x_true[0:10] = 1\n",
    "b = A@x_true\n",
    "mu = 10"
   ]
  },
  {
   "cell_type": "markdown",
   "metadata": {},
   "source": [
    "### Use your FBS solver to solve the problem\n",
    "$$\\arg \\min \\quad  \\mu|x| + \\frac{1}{2}\\|Ax-b\\|^2$$\n"
   ]
  },
  {
   "cell_type": "code",
   "execution_count": 6,
   "metadata": {},
   "outputs": [],
   "source": [
    "def shrink(z,t):\n",
    "    x = np.zeros_like(z)\n",
    "    greater = np.greater(z,t)\n",
    "    less  =  np.less(z,t)\n",
    "    x[greater] = z[greater] - t\n",
    "    x[less] = z[less] + t\n",
    "    return x"
   ]
  },
  {
   "cell_type": "code",
   "execution_count": 14,
   "metadata": {},
   "outputs": [],
   "source": [
    "# Fill out the implementations of these methods. I suggest using lambda functions to keep it short\n",
    "f = lambda x:0.5*np.linalg.norm(A@x-b)**2 # your work here\n",
    "gradf = lambda x: A.T@(A@x - b) # your work here\n",
    "g = lambda x: mu * np.linalg.norm(x,ord=1) # your work here\n",
    "proxg = lambda z,t: shrink(z,mu*t) # your work here"
   ]
  },
  {
   "cell_type": "markdown",
   "metadata": {},
   "source": [
    "### Now, run this method to call the solver and test results"
   ]
  },
  {
   "cell_type": "code",
   "execution_count": 17,
   "metadata": {
    "pixiedust": {
     "displayParams": {}
    }
   },
   "outputs": [
    {
     "name": "stdout",
     "output_type": "stream",
     "text": [
      "[[ -8.11020231]\n",
      " [-11.42831806]\n",
      " [ -9.49487617]\n",
      " [-11.79864675]\n",
      " [ -8.17758691]\n",
      " [-10.53670969]\n",
      " [ -7.91289401]\n",
      " [-10.75711611]\n",
      " [-10.72875608]\n",
      " [-10.21450885]\n",
      " [  3.79356768]\n",
      " [  9.13900112]\n",
      " [  2.39769954]\n",
      " [ -6.41248287]\n",
      " [  0.6093804 ]\n",
      " [  3.51197927]\n",
      " [  0.04709894]\n",
      " [  5.43411796]\n",
      " [  4.38029758]\n",
      " [ -0.30831644]\n",
      " [  1.93917002]\n",
      " [ -5.39464387]\n",
      " [  1.41901133]\n",
      " [  5.66678078]\n",
      " [  6.77520456]\n",
      " [  6.05792855]\n",
      " [  1.46516534]\n",
      " [ -1.66441812]\n",
      " [  4.33120713]\n",
      " [ -0.11686134]\n",
      " [  3.36093447]\n",
      " [  6.27997918]\n",
      " [  7.44476177]\n",
      " [  5.12443363]\n",
      " [  4.28363512]\n",
      " [  0.14341593]\n",
      " [  2.23221042]\n",
      " [  4.09521912]\n",
      " [ -4.63756882]\n",
      " [  8.65103789]\n",
      " [  8.41099424]\n",
      " [  4.13992752]\n",
      " [  4.36262889]\n",
      " [  4.92903375]\n",
      " [  5.068004  ]\n",
      " [  6.68659487]\n",
      " [  4.14273155]\n",
      " [ -1.16266615]\n",
      " [ -0.13899171]\n",
      " [  8.22892048]\n",
      " [ -9.13457673]\n",
      " [  2.13578758]\n",
      " [  4.77176245]\n",
      " [  1.12848391]\n",
      " [ -3.18291389]\n",
      " [ -8.9957788 ]\n",
      " [ -0.10271518]\n",
      " [  9.11946885]\n",
      " [  3.66478152]\n",
      " [ -8.3325216 ]\n",
      " [  8.8101491 ]\n",
      " [ -5.33714852]\n",
      " [  4.8235619 ]\n",
      " [  2.44920309]\n",
      " [  1.13738413]\n",
      " [  3.40832102]\n",
      " [  6.89008798]\n",
      " [  8.12711974]\n",
      " [  5.79501098]\n",
      " [ -1.17256212]\n",
      " [  5.13991952]\n",
      " [ -1.94894739]\n",
      " [  6.42138293]\n",
      " [  8.11786723]\n",
      " [ -1.44032188]\n",
      " [ -1.81172903]\n",
      " [  0.39663181]\n",
      " [  5.16410408]\n",
      " [  6.8075068 ]\n",
      " [  4.93719116]\n",
      " [  1.12358032]\n",
      " [  2.32169538]\n",
      " [  1.1133089 ]\n",
      " [-11.5168167 ]\n",
      " [-12.00842389]\n",
      " [ -7.69011646]\n",
      " [ -4.55014342]\n",
      " [  3.2287571 ]\n",
      " [ -3.18679339]\n",
      " [  6.29534377]\n",
      " [  3.51659955]\n",
      " [ -1.61755355]\n",
      " [  2.01111346]\n",
      " [  1.63843542]\n",
      " [  2.61889408]\n",
      " [ -0.60218492]\n",
      " [ -2.32556062]\n",
      " [  5.62043959]\n",
      " [  3.38662328]\n",
      " [  1.57763294]\n",
      " [-10.98907014]\n",
      " [  1.95220212]\n",
      " [ -3.23028558]\n",
      " [ -1.41371107]\n",
      " [  6.53864446]\n",
      " [ -0.47428537]\n",
      " [  8.42200698]\n",
      " [ -1.00502588]\n",
      " [  3.64763836]\n",
      " [  6.17472366]\n",
      " [ -6.43408827]\n",
      " [  2.70024654]\n",
      " [ -4.34970987]\n",
      " [ -8.77988252]\n",
      " [  5.75434174]\n",
      " [ -2.10407221]\n",
      " [  6.81411018]\n",
      " [  3.80153445]\n",
      " [  0.2589611 ]\n",
      " [  0.85555145]\n",
      " [ 12.99556545]\n",
      " [ -4.86493824]\n",
      " [ -5.35810231]\n",
      " [ -3.12199299]\n",
      " [  6.65431383]\n",
      " [  6.16755679]\n",
      " [ -0.40258416]\n",
      " [  6.30450534]\n",
      " [  7.14086576]\n",
      " [  8.70746118]\n",
      " [  2.18454793]\n",
      " [  3.16243949]\n",
      " [  7.88642112]\n",
      " [  8.41037198]\n",
      " [ -0.44216212]\n",
      " [  1.49888109]\n",
      " [ -5.53693306]\n",
      " [ -6.03656857]\n",
      " [  0.57818404]\n",
      " [ -0.68233131]\n",
      " [ -2.85100109]\n",
      " [ 11.44122037]\n",
      " [  6.28841508]\n",
      " [ -7.79988587]\n",
      " [ -3.32972328]\n",
      " [ -3.67477802]\n",
      " [ -5.06495116]\n",
      " [  2.58417323]\n",
      " [ -4.13322624]\n",
      " [ -6.11262124]\n",
      " [  3.41925958]\n",
      " [ -5.32377527]\n",
      " [ 11.46895826]\n",
      " [  1.13359723]\n",
      " [ -0.69877099]\n",
      " [ -2.25349477]\n",
      " [ -0.72779604]\n",
      " [  3.0025801 ]\n",
      " [ -0.55009315]\n",
      " [ 13.19061704]\n",
      " [ -1.94718947]\n",
      " [  6.34349568]\n",
      " [  2.33448119]\n",
      " [  3.20367602]\n",
      " [-10.72480113]\n",
      " [  4.93561569]\n",
      " [  7.49599809]\n",
      " [  6.26426586]\n",
      " [ -0.63070437]\n",
      " [ -5.0350467 ]\n",
      " [ -1.07313436]\n",
      " [  1.37470685]\n",
      " [  9.81522074]\n",
      " [  1.88687709]\n",
      " [ -0.59546412]\n",
      " [  1.27699039]\n",
      " [  0.86983459]\n",
      " [ -5.63484133]\n",
      " [ 10.50933986]\n",
      " [  5.25204227]\n",
      " [  5.44803535]\n",
      " [  3.02764845]\n",
      " [  7.42616968]\n",
      " [ -2.77959901]\n",
      " [  7.35319645]\n",
      " [  7.79339576]\n",
      " [ -8.69761232]\n",
      " [  1.15785011]\n",
      " [ -3.25169602]\n",
      " [  0.49920076]\n",
      " [  1.51786462]\n",
      " [  1.5540337 ]\n",
      " [  2.3326549 ]\n",
      " [  8.71770721]\n",
      " [ -6.33925987]\n",
      " [  6.50176369]\n",
      " [ -5.5165798 ]\n",
      " [  6.05740884]\n",
      " [ -0.88943092]\n",
      " [ -8.48775167]]\n"
     ]
    },
    {
     "ename": "ValueError",
     "evalue": "zero-size array to reduction operation maximum which has no identity",
     "output_type": "error",
     "traceback": [
      "\u001b[0;31m---------------------------------------------------------------------------\u001b[0m",
      "\u001b[0;31mValueError\u001b[0m                                Traceback (most recent call last)",
      "\u001b[0;32m<ipython-input-17-77949b506d08>\u001b[0m in \u001b[0;36m<module>\u001b[0;34m\u001b[0m\n\u001b[1;32m      5\u001b[0m \u001b[0mg\u001b[0m \u001b[0;34m=\u001b[0m \u001b[0mgradf\u001b[0m\u001b[0;34m(\u001b[0m\u001b[0mx\u001b[0m\u001b[0;34m)\u001b[0m\u001b[0;34m\u001b[0m\u001b[0m\n\u001b[1;32m      6\u001b[0m \u001b[0mprint\u001b[0m\u001b[0;34m(\u001b[0m\u001b[0mg\u001b[0m\u001b[0;34m)\u001b[0m\u001b[0;34m\u001b[0m\u001b[0m\n\u001b[0;32m----> 7\u001b[0;31m \u001b[0;32massert\u001b[0m \u001b[0mmax\u001b[0m\u001b[0;34m(\u001b[0m\u001b[0mabs\u001b[0m\u001b[0;34m(\u001b[0m\u001b[0mg\u001b[0m\u001b[0;34m[\u001b[0m\u001b[0mx\u001b[0m\u001b[0;34m==\u001b[0m\u001b[0;36m0\u001b[0m\u001b[0;34m]\u001b[0m\u001b[0;34m)\u001b[0m\u001b[0;34m)\u001b[0m \u001b[0;34m<=\u001b[0m \u001b[0mmu\u001b[0m\u001b[0;34m+\u001b[0m\u001b[0;36m1e-4\u001b[0m\u001b[0;34m,\u001b[0m \u001b[0;34m\"Your solution is incorrect\"\u001b[0m\u001b[0;34m\u001b[0m\u001b[0m\n\u001b[0m\u001b[1;32m      8\u001b[0m \u001b[0;32massert\u001b[0m \u001b[0mnorm\u001b[0m\u001b[0;34m(\u001b[0m\u001b[0mg\u001b[0m\u001b[0;34m[\u001b[0m\u001b[0mx\u001b[0m\u001b[0;34m!=\u001b[0m\u001b[0;36m0\u001b[0m\u001b[0;34m]\u001b[0m \u001b[0;34m+\u001b[0m \u001b[0mmu\u001b[0m\u001b[0;34m*\u001b[0m\u001b[0msign\u001b[0m\u001b[0;34m(\u001b[0m\u001b[0mx\u001b[0m\u001b[0;34m[\u001b[0m\u001b[0mx\u001b[0m\u001b[0;34m!=\u001b[0m\u001b[0;36m0\u001b[0m\u001b[0;34m]\u001b[0m\u001b[0;34m)\u001b[0m\u001b[0;34m)\u001b[0m\u001b[0;34m/\u001b[0m\u001b[0mnorm\u001b[0m\u001b[0;34m(\u001b[0m\u001b[0mg\u001b[0m\u001b[0;34m[\u001b[0m\u001b[0mx\u001b[0m\u001b[0;34m!=\u001b[0m\u001b[0;36m0\u001b[0m\u001b[0;34m]\u001b[0m\u001b[0;34m)\u001b[0m \u001b[0;34m<\u001b[0m \u001b[0;36m1e-4\u001b[0m\u001b[0;34m,\u001b[0m  \u001b[0;34m\"Your solution is incorrect\"\u001b[0m\u001b[0;34m\u001b[0m\u001b[0m\n\u001b[1;32m      9\u001b[0m \u001b[0mprint\u001b[0m\u001b[0;34m(\u001b[0m\u001b[0;34m'TEST PASSED! Wow! You are so in the zone right now!'\u001b[0m\u001b[0;34m)\u001b[0m\u001b[0;34m\u001b[0m\u001b[0m\n",
      "\u001b[0;32m/usr/local/lib/python3.7/site-packages/numpy/core/fromnumeric.py\u001b[0m in \u001b[0;36mamax\u001b[0;34m(a, axis, out, keepdims)\u001b[0m\n\u001b[1;32m   2318\u001b[0m \u001b[0;34m\u001b[0m\u001b[0m\n\u001b[1;32m   2319\u001b[0m     return _methods._amax(a, axis=axis,\n\u001b[0;32m-> 2320\u001b[0;31m                           out=out, **kwargs)\n\u001b[0m\u001b[1;32m   2321\u001b[0m \u001b[0;34m\u001b[0m\u001b[0m\n\u001b[1;32m   2322\u001b[0m \u001b[0;34m\u001b[0m\u001b[0m\n",
      "\u001b[0;32m/usr/local/lib/python3.7/site-packages/numpy/core/_methods.py\u001b[0m in \u001b[0;36m_amax\u001b[0;34m(a, axis, out, keepdims)\u001b[0m\n\u001b[1;32m     24\u001b[0m \u001b[0;31m# small reductions\u001b[0m\u001b[0;34m\u001b[0m\u001b[0;34m\u001b[0m\u001b[0m\n\u001b[1;32m     25\u001b[0m \u001b[0;32mdef\u001b[0m \u001b[0m_amax\u001b[0m\u001b[0;34m(\u001b[0m\u001b[0ma\u001b[0m\u001b[0;34m,\u001b[0m \u001b[0maxis\u001b[0m\u001b[0;34m=\u001b[0m\u001b[0;32mNone\u001b[0m\u001b[0;34m,\u001b[0m \u001b[0mout\u001b[0m\u001b[0;34m=\u001b[0m\u001b[0;32mNone\u001b[0m\u001b[0;34m,\u001b[0m \u001b[0mkeepdims\u001b[0m\u001b[0;34m=\u001b[0m\u001b[0;32mFalse\u001b[0m\u001b[0;34m)\u001b[0m\u001b[0;34m:\u001b[0m\u001b[0;34m\u001b[0m\u001b[0m\n\u001b[0;32m---> 26\u001b[0;31m     \u001b[0;32mreturn\u001b[0m \u001b[0mumr_maximum\u001b[0m\u001b[0;34m(\u001b[0m\u001b[0ma\u001b[0m\u001b[0;34m,\u001b[0m \u001b[0maxis\u001b[0m\u001b[0;34m,\u001b[0m \u001b[0;32mNone\u001b[0m\u001b[0;34m,\u001b[0m \u001b[0mout\u001b[0m\u001b[0;34m,\u001b[0m \u001b[0mkeepdims\u001b[0m\u001b[0;34m)\u001b[0m\u001b[0;34m\u001b[0m\u001b[0m\n\u001b[0m\u001b[1;32m     27\u001b[0m \u001b[0;34m\u001b[0m\u001b[0m\n\u001b[1;32m     28\u001b[0m \u001b[0;32mdef\u001b[0m \u001b[0m_amin\u001b[0m\u001b[0;34m(\u001b[0m\u001b[0ma\u001b[0m\u001b[0;34m,\u001b[0m \u001b[0maxis\u001b[0m\u001b[0;34m=\u001b[0m\u001b[0;32mNone\u001b[0m\u001b[0;34m,\u001b[0m \u001b[0mout\u001b[0m\u001b[0;34m=\u001b[0m\u001b[0;32mNone\u001b[0m\u001b[0;34m,\u001b[0m \u001b[0mkeepdims\u001b[0m\u001b[0;34m=\u001b[0m\u001b[0;32mFalse\u001b[0m\u001b[0;34m)\u001b[0m\u001b[0;34m:\u001b[0m\u001b[0;34m\u001b[0m\u001b[0m\n",
      "\u001b[0;31mValueError\u001b[0m: zero-size array to reduction operation maximum which has no identity"
     ]
    }
   ],
   "source": [
    "# %%pixie_debugger\n",
    "x0 = zeros((200,1))\n",
    "x = fbs(f,gradf,proxg,x0, tol=1e-8) # Note: I use super high accuracy here so that my unit best below works\n",
    "# Test that your solution satisfies the optimality condition for the problem\n",
    "g = gradf(x)\n",
    "assert max(abs(g[x==0])) <= mu+1e-4, \"Your solution is incorrect\"\n",
    "assert norm(g[x!=0] + mu*sign(x[x!=0]))/norm(g[x!=0]) < 1e-4,  \"Your solution is incorrect\"\n",
    "print('TEST PASSED! Wow! You are so in the zone right now!')\n",
    "good_job(\"https://www.cs.umd.edu/~tomg/img/important_memes/otter.png\")"
   ]
  },
  {
   "cell_type": "markdown",
   "metadata": {},
   "source": [
    "# Problem 2: ADMM\n",
    "In this problem,\n",
    "you'll write an \"unwrapped ADMM\" solver for the support-vector machine problem\n",
    "$$\n",
    " \\min \\quad \\frac{1}{2} \\|x\\|^2+Ch(Ax)\n",
    "$$ \n",
    "where $h(z) = \\sum_i \\max\\{1-z_i,0\\}$ is the hinge loss function, and  $A = YX$ is the product of the (diagonal) label matrix with the data matrix.  Your solver will be based on the constrained formulation\n",
    "\n",
    "\\begin{align}\n",
    " \\min &\\quad \\frac{1}{2} \\|x\\|^2+Ch(y)\\\\\n",
    " \\text{subject to}&\\quad   y=Ax.\n",
    "\\end{align}\n",
    "\n",
    "Start by running the block below to produce a test problem."
   ]
  },
  {
   "cell_type": "code",
   "execution_count": null,
   "metadata": {},
   "outputs": [],
   "source": [
    "# Define a classification problem\n",
    "X, y = create_classification_problem(100, 10, cond_number=10)\n",
    "A = y*X\n",
    "t = 1/norm(A.T@A)\n",
    "C = 1"
   ]
  },
  {
   "cell_type": "markdown",
   "metadata": {},
   "source": [
    "### Write the scaled augmented Lagrangian for the constrained problem\n",
    " Use $\\lambda$ to donote the Lagrange multiplier.\n",
    " \n",
    " **Your solution here**"
   ]
  },
  {
   "cell_type": "markdown",
   "metadata": {},
   "source": [
    "### Write the system of equations that needs to be solved to update $x$\n",
    " **Your solution here**"
   ]
  },
  {
   "cell_type": "markdown",
   "metadata": {},
   "source": [
    "### Write a routine to evaluate the prox operator of the hinge loss. Your routine will return the solution to the prox problem\n",
    "$$\\text{prox}_h(z,t) = \\arg\\min_x h(x) + \\frac{1}{2t}\\|x-z\\|^2.$$\n",
    "You cannot use an iterative method to compute this value.  Note: this can be done with one line of code.  The prox operator for the hinge loss is a lot like the prox operator for L1."
   ]
  },
  {
   "cell_type": "code",
   "execution_count": null,
   "metadata": {},
   "outputs": [],
   "source": [
    "def hprox(z,t):\n",
    "    # Your work here\n",
    "    return x"
   ]
  },
  {
   "cell_type": "markdown",
   "metadata": {},
   "source": [
    "### Now run these unit tests"
   ]
  },
  {
   "cell_type": "code",
   "execution_count": null,
   "metadata": {},
   "outputs": [],
   "source": [
    "assert hprox(0,1)==1, \"Your prox operator failed unit test 1\"\n",
    "assert hprox(1,1)==1, \"Your prox operator failed unit test 2\"\n",
    "assert hprox(-1,1)==0, \"Your prox operator failed unit test 3\"\n",
    "assert hprox(1,2)==1, \"Your prox operator failed unit test 4\"\n",
    "assert hprox(1,3)==1, \"Your prox operator failed unit test 5\"\n",
    "assert hprox(4,3)==4, \"Your prox operator failed unit test 6\""
   ]
  },
  {
   "cell_type": "markdown",
   "metadata": {},
   "source": [
    "### Write an ADMM loop to solve the SVM problem above.  \n",
    "Use your prox operator for the $y$ update.\n",
    "Run the solver until the primal and dual residuals satisfy\n",
    "$$p^k \\le 10^{-5} \\max_{i<k}p^i$$\n",
    "$$d^k \\le 10^{-5} \\max_{i<k}d^i.$$\n",
    "The residuals are given by \n",
    "$$p^k = \\|Ax^k-y^k\\|$$\n",
    "$$d^k = \\|\\tau A^T(y^k-y^{k-1})\\|.$$"
   ]
  },
  {
   "cell_type": "code",
   "execution_count": null,
   "metadata": {},
   "outputs": [],
   "source": [
    "x = zeros((10,1))\n",
    "y = zeros((100,1))\n",
    "l = zeros((100,1))\n",
    "\n",
    "# Your work below\n"
   ]
  },
  {
   "cell_type": "markdown",
   "metadata": {},
   "source": [
    "### Now run this unit test"
   ]
  },
  {
   "cell_type": "code",
   "execution_count": null,
   "metadata": {},
   "outputs": [],
   "source": [
    "assert norm(x+t*A.T@(A@x-y-l))/norm(x)<1e-3, 'Your ADMM solver did not produce an accurate solution.'\n",
    "z = A@x-l\n",
    "assert norm(y-z - maximum(minimum(1-z,C/t),0))/norm(y)<1e-3, 'Your ADMM solver did not produce an accurate solution.'\n",
    "print('Congrats! Your solver works!!')\n",
    "good_job(\"https://www.cs.umd.edu/~tomg/img/important_memes/ron_awesome.png\")"
   ]
  }
 ],
 "metadata": {
  "kernelspec": {
   "display_name": "Python 3",
   "language": "python",
   "name": "python3"
  },
  "language_info": {
   "codemirror_mode": {
    "name": "ipython",
    "version": 3
   },
   "file_extension": ".py",
   "mimetype": "text/x-python",
   "name": "python",
   "nbconvert_exporter": "python",
   "pygments_lexer": "ipython3",
   "version": "3.7.0"
  }
 },
 "nbformat": 4,
 "nbformat_minor": 2
}
