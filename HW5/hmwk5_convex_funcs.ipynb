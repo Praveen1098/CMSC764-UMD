{
 "cells": [
  {
   "cell_type": "markdown",
   "metadata": {},
   "source": [
    "Name: **Haitham**  \n",
    "UID: **116098700**"
   ]
  },
  {
   "cell_type": "markdown",
   "metadata": {},
   "source": [
    "# Homework 5:  Gradients \n",
    "### Due Wed Mar 15, 2019\n",
    "Upload **both** your notebook (a file with extension \"ipynb\") **and** a pdf version of your notebook to [ELMS](https://umd.instructure.com/courses/1255897). \n",
    "\n",
    "Use either the slides, or Boyd $\\S$3.2 as a reference.\n"
   ]
  },
  {
   "cell_type": "markdown",
   "metadata": {},
   "source": [
    "# Problem 1\n",
    "For this problem, you may use any of the results/rules from the lecture slides.\n",
    "\n",
    "### (a) Consider the set of probability functions defined on $\\mathbb{R}$, given by $\\{f| f\\ge 0, \\text{and} \\int f = 1 \\}.$  Is this a convex set?"
   ]
  },
  {
   "cell_type": "markdown",
   "metadata": {},
   "source": [
    "Yes it is a convex set. \n",
    "Let $X =\\{f| f\\ge 0, \\text{and} \\int f = 1 \\}.$ Let $f_1,f_2 \\in X$\n",
    "\n",
    "Let  $\\ f = \\theta_1f_1 + \\theta_2f_2,\\  \\forall \\theta_1,\\theta_2 \\in  \\mathbb R_+, \\ s.t \\ \\theta_1 + \\theta_2 = 1 $\n",
    "\n",
    "$\\because f_1,f_2,\\theta_1,\\theta_2 >0,\\ \\therefore f > 0$ ,and $\\int f = \\theta_1\\int f_1 + \\theta_2\\int f_2 = 1$\n",
    "\n",
    "$\\therefore f \\in X \\implies X$ is a convex set\n"
   ]
  },
  {
   "cell_type": "markdown",
   "metadata": {},
   "source": [
    "### (b) Consider the set of $n\\times n$ low-rank matrices $\\{A\\in\\mathbb{R}^{n\\times n} | \\, \\text{rank}(A)<k \\},$ where $0<k<n$.   Is this set convex?  Why?"
   ]
  },
  {
   "cell_type": "markdown",
   "metadata": {},
   "source": [
    "No, it's not a convex set. Let $X = \\{A\\in\\mathbb{R}^{n\\times n} | \\, \\text{rank}(A)<k \\}$\n",
    "\n",
    "$\\because rank(\\theta_1C+\\theta_2D) \\leq rank(\\theta_1C) +  rank(\\theta_2D) < 2k\\ \\forall C,D \\in X$ (OR $ rank(\\theta_1C+\\theta_2D) \\leq rank(\\theta_1C) +  rank(\\theta_2D) \\leq 2k-2$\n",
    "\n",
    "$\\therefore rank(\\theta_1C+\\theta_2D) \\leq 2k-2 $ does not guarantee that $\\theta_1C+\\theta_2D \\in X\\implies X$ is not convex"
   ]
  },
  {
   "cell_type": "markdown",
   "metadata": {},
   "source": [
    "### c) Suppose $\\{A_i\\}$ are matrices of identical size.  Define the set $$\\{X \\,\\,|\\,\\,  \\text{trace}(A_i^T X A_i) \\le 0, \\,\\, \\forall i \\}.$$\n",
    "Is this set of matrices convex?"
   ]
  },
  {
   "cell_type": "markdown",
   "metadata": {},
   "source": [
    "Assuming $X \\in$ convex set. The set given is convex\n",
    "\n",
    "1-for a given A, $trace(A^TXA)$ is a linear operator in X so it can be written as $BX$, equivalently $\\{X \\,\\,|\\,\\,BX \\le 0\\}$ is convex (Polyhedra)\n",
    "\n",
    "2-The intersection of convex sets is also convex.\n",
    "\n",
    "3-$\\{X \\,\\,|\\,\\,  \\text{trace}(A_i^T X A_i) \\le 0, \\,\\, \\forall i \\}= \\{X \\,\\,|\\,\\,\\cap_{i} B_iX \\le 0\\}$ is a convex set"
   ]
  },
  {
   "cell_type": "markdown",
   "metadata": {},
   "source": [
    "### (c) Let $C \\in \\mathbb{R}^n$ be a compact (closed and bounded), non-empty convex set.  For a scalar $x,$ let C(x) be the set of all points in $C$ whose first coordinate is closer to x than any other point. More precisely: $C(x)=\\{a\\in C \\, |\\,  \\forall b \\in C , |a_1-x|\\le |b_1-x|  \\}.$  Is $C(x)$ a convex set for any choice of $x$? Why?"
   ]
  },
  {
   "cell_type": "markdown",
   "metadata": {},
   "source": [
    "Let $c,d \\in C(x),\\  \\theta \\in [0,1],\\ v = \\theta c + (1-\\theta)d$\n",
    "\n",
    "$v_1 = \\theta c_1 + (1-\\theta)d_1$ \n",
    "\n",
    "$|v_1-x| =| \\theta c_1 + (1-\\theta)d_1 -x | = | \\theta (c_1-x) + (1-\\theta)(d_1-x) | \\le \\theta|c_1-x| + (1-\\theta)|d_1-x| \\le \\theta|b_1-x| + (1-\\theta)|b_1-x| = |b_1-x|, \\ \\forall b \\in C(x)$\n",
    "\n",
    "$\\therefore v = \\theta c + (1-\\theta)d,\\ |v_1-x|\\le |b_1-x|,\\ \\forall b \\in C(x)\\implies v\\in C(x)\\implies C(x)\\ \\text{is convex for any choice of }x$"
   ]
  },
  {
   "cell_type": "markdown",
   "metadata": {},
   "source": [
    "### (d)  Let $\\|\\cdot\\|$ be the vector 2-norm.  Is the set $C = \\{(x,y)\\, |\\,\\, \\|x\\| \\le  y \\}$ convex?  Is it a cone?  Why?  What about the set $C = \\{(x,y)\\, |\\,\\, \\|x\\|^2 \\le  y \\}?$  Is this convex? Is this a  cone?"
   ]
  },
  {
   "cell_type": "markdown",
   "metadata": {},
   "source": [
    "$C = \\{(x,y)\\, |\\,\\, \\|x\\| \\le  y \\}$ assuming $y \\ge 0$\n",
    "###### convexity\n",
    "Let $c_1 = [x_1,y]^T \\in C,\\ c_2 = [x_2,y]^T \\in C,\\ v = \\theta c_1 + (1 - \\theta) c_2, \\ 0\\leq \\theta \\leq 1$ \n",
    "\n",
    "$ v= \\theta c_1 + (1 - \\theta) c_2 = [\\theta x_1 + (1-\\theta)x_2, y]^T$\n",
    "\n",
    "$||\\theta x_1 + (1-\\theta) x_2|| \\leq ||\\theta x_1|| + ||(1 - \\theta) x_2|| = \\theta ||x_1|| + (1-\\theta)||x_2|| \\leq \\theta y + (1-\\theta)y = y, \\ \\ \\therefore  ||\\theta x_1 + (1-\\theta) x_2|| \\leq y$\n",
    "\n",
    "$\\therefore v \\in C \\implies C$ is convex set\n",
    "###### cone?\n",
    "Let $c = [x,y]^T \\in C$\n",
    "\n",
    "$v = \\alpha c = [\\alpha x,\\alpha y]^T$\n",
    "\n",
    "$||\\alpha x|| = \\alpha ||x|| \\leq \\alpha y,\\ \\ \\therefore ||\\alpha x|| \\leq \\alpha y\\implies v=\\alpha c \\in C \\implies C$ is a cone \n",
    "\n",
    "___\n",
    "$C = \\{(x,y)\\, |\\,\\, \\|x\\|^2 \\le  y \\}$ assuming $y\\ge 0$\n",
    "###### convexity\n",
    "Let $c_1 = [x_1,y]^T \\in C,\\ c_2 = [x_2,y]^T \\in C,\\ v = \\theta c_1 + (1 - \\theta) c_2,\\ 0\\leq \\theta \\leq 1$\n",
    "\n",
    "$ v= \\theta c_1 + (1 - \\theta) c_2 = [\\theta x_1 + (1-\\theta)x_2, y]^T$\n",
    "\n",
    "$||\\theta x_1 + (1-\\theta) x_2||^2 =\\  <\\theta x_1 + (1-\\theta) x_2,\\theta x_1 + (1-\\theta) x_2> \\  = \\theta^2||x_1||^2 + 2\\theta(1-\\theta)<x1,x2> + (1-\\theta)^2||x_2||^2 $\n",
    "\n",
    "$||\\theta x_1 + (1-\\theta) x_2||^2 \\leq \\theta^2||x_1||^2 + 2\\theta(1-\\theta)||x1||\\ ||x2|| + (1-\\theta)^2||x_2||^2 \\leq \\theta^2 y + 2\\theta(1-\\theta) y + (1-\\theta)^2 y = -2\\theta^2 y +y + 2\\theta \\nleq y$ \n",
    "\n",
    "$\\therefore C$ is not convex\n",
    "###### cone?\n",
    "Let $c = [x,y]^T \\in C$\n",
    "\n",
    "$v = \\alpha c = [\\alpha x,\\alpha y]^T$\n",
    "\n",
    "$||\\alpha x||^2 = \\alpha^2 ||x||^2 \\leq \\alpha^2y\\nleq \\alpha y \\implies C$ is not a cone"
   ]
  },
  {
   "cell_type": "markdown",
   "metadata": {},
   "source": [
    "## Problem 2\n",
    "### (a) Suppose the function $f(x,y)$ is convex.  Prove that \n",
    "  $$g(x) = \\min_y f(x,y)$$\n",
    "  is also convex.\n"
   ]
  },
  {
   "cell_type": "markdown",
   "metadata": {},
   "source": [
    "Assuming $y\\in C$ (convex set) \n",
    "\n",
    "For g(x) to be a convex function, it has to satisfy Jensen's inequality\n",
    "\n",
    "$$\\text{for} \\ 0\\leq \\theta \\leq1$$\n",
    "\n",
    "$$g(\\theta x_1 + (1-\\theta)x_2) = \\min_y f(\\theta x_1 + (1-\\theta)x_2,y)$$\n",
    "$$\\because y \\in C,\\ \\exists y_1,y_2 \\in C,\\  s.t \\  y = \\theta y_1 + (1-\\theta)y_2$$\n",
    "$$g(\\theta x_1 + (1-\\theta)x_2) = \\min_y f(\\theta x_1 + (1-\\theta)x_2,\\theta y_1 + (1-\\theta)y_2)$$\n",
    "$$g(\\theta x_1 + (1-\\theta)x_2) \\leq \\min_y \\theta f( x_1, y_1) + (1-\\theta) f(x_2, y_2)\\ \\text{(Jensen)}$$\n",
    "$$g(\\theta x_1 + (1-\\theta)x_2) \\leq \\min_y \\theta f( x_1, y_1) + \\min_y(1-\\theta) f(x_2, y_2)$$\n",
    "$$g(\\theta x_1 + (1-\\theta)x_2) \\leq \\theta g( x_1) + (1-\\theta) g(x_2)$$\n",
    "$$\\therefore g(x)\\ \\text{is convex}$$\n"
   ]
  },
  {
   "cell_type": "markdown",
   "metadata": {},
   "source": [
    "### (b)  Suppose $f$ is strongly convex.  Show that the gradient of $f$ is strongly monotone, i.e., there is a constant $m>0$ with \n",
    "  $$ \\langle x-y,\\nabla f(x) - \\nabla f(y) \\rangle \\ge m\\|x-y\\|^2.$$\n"
   ]
  },
  {
   "cell_type": "markdown",
   "metadata": {},
   "source": [
    "$\\because f\\ \\text{is strongly convex}, \\ \\therefore \\exists m>0,\\ s.t\\  \\nabla^2f(x) \\ge mI$\n",
    "\n",
    "We have for a convex function $f$\n",
    "\n",
    "$f(x) \\ge f(y) + \\nabla f(x)^T(x-y) + \\frac{1}{2}(x-y)^T\\nabla^2f(x)(x-y)$\n",
    "\n",
    "$f(y) \\ge f(x) + \\nabla f(y)^T(y-x) + \\frac{1}{2}(y-x)^T\\nabla^2f(y)(y-x)$\n",
    "\n",
    "subtract 2 from 1\n",
    "\n",
    "$(\\nabla f(y)-\\nabla f(x))^T(y-x) = \\frac{1}{2}(y-x)^T(\\nabla^2f(y)+ \\nabla^2f(x))(y-x) \\ge (y-x)^T(m)(y-x)$\n",
    "\n",
    "$ \\langle \\nabla f(y) - \\nabla f(x) ,y-x \\rangle \\ge m\\|y-x\\|^2.$\n",
    "\n",
    "$ \\langle x-y,\\nabla f(x) - \\nabla f(y) \\rangle \\ge m\\|x-y\\|^2.$\n"
   ]
  },
  {
   "cell_type": "markdown",
   "metadata": {},
   "source": [
    "# Problem 3\n",
    " Suppose that $g(x)$ is convex and $h(x)$ is concave (i.e. $-h(x)$ is convex).  Suppose we restrict both functions into a closed, convex set $C$ such that both $g(x)$ and $h(x)$ are always positive when $x \\in C.$  Prove that the function\n",
    "  $f(x) = g(x)/h(x)$ \n",
    "  is quasi-convex.  (note: It follows that every local minimum is also global)\n",
    "\n"
   ]
  },
  {
   "cell_type": "markdown",
   "metadata": {},
   "source": [
    "From definition, a function f is quasi-convex if its domain($dom(f)$) and all\n",
    "its sublevel sets $S_\\alpha = \\{x\\in dom(f) |\\ f(x) \\leq \\alpha \\}$ are convex, where $\\alpha \\in \\mathbb{R}$\n",
    "\n",
    "1-Suppose$\\ y \\in C$, then $dom(f(y))$ is convex\n",
    "\n",
    "2-Suppose $y \\in C \\ ,\\text{then} \\ f(y) \\leq \\alpha \\implies g(y)/h(y) \\leq \\alpha$\n",
    "\n",
    "-if $\\alpha \\leq0, S_\\alpha = \\phi$, because $g(y)/h(y) > 0 \\ \\ \\forall y \\in C\\implies S_\\alpha=\\phi \\ \\text{is convex}\\ \\forall \\alpha \\leq 0$\n",
    "\n",
    "-if $\\alpha > 0,\\ g(y)\\leq h(y)\\alpha \\implies g(y) - \\alpha h(y) \\leq 0,\\ \\because g(y),-h(y) \\ \\text{are convex, and} \\ \\alpha > 0 \\therefore g(y) - \\alpha h(y) \\ \\text{is a convex function}$\n",
    "\n",
    "Any convex function has convex sublevel sets$\\implies \\{y \\in dom(f)|g(y) - \\alpha h(y) \\leq 0 \\} \\ \\text{is convex}\\ \\forall \\alpha > 0\\implies S_\\alpha$ is convex\n",
    "\n",
    "We showed that $\\forall \\alpha \\in \\mathbb{R}, S_\\alpha$ is convex$\\ \\forall y \\in dom(f)$, and $dom(f)$ is $C$ which is given to be convex $\\implies f(x)$ is indeed quasi-convex\n"
   ]
  },
  {
   "cell_type": "code",
   "execution_count": null,
   "metadata": {},
   "outputs": [],
   "source": []
  }
 ],
 "metadata": {
  "kernelspec": {
   "display_name": "Python 3",
   "language": "python",
   "name": "python3"
  },
  "language_info": {
   "codemirror_mode": {
    "name": "ipython",
    "version": 3
   },
   "file_extension": ".py",
   "mimetype": "text/x-python",
   "name": "python",
   "nbconvert_exporter": "python",
   "pygments_lexer": "ipython3",
   "version": "3.6.4"
  }
 },
 "nbformat": 4,
 "nbformat_minor": 2
}
